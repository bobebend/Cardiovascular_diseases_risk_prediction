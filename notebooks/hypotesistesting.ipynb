{
 "cells": [
  {
   "cell_type": "code",
   "execution_count": 16,
   "metadata": {},
   "outputs": [
    {
     "name": "stdout",
     "output_type": "stream",
     "text": [
      "The autoreload extension is already loaded. To reload it, use:\n",
      "  %reload_ext autoreload\n"
     ]
    }
   ],
   "source": [
    "import numpy as np\n",
    "import pandas as pd\n",
    "import seaborn as sns\n",
    "import statsmodels.api as sm\n",
    "import csv\n",
    "import matplotlib.pyplot as plt\n",
    "from scipy import stats\n",
    "from scipy.stats import wilcoxon, mannwhitneyu\n",
    "from itertools import combinations \n",
    "import scipy.stats as stats\n",
    "import scipy\n",
    "from scipy.stats import ttest_ind\n",
    "from scipy.stats import fisher_exact\n",
    "\n",
    "# autoreload\n",
    "%load_ext autoreload\n",
    "%autoreload 2\n",
    "\n",
    "import warnings\n",
    "warnings.filterwarnings('ignore')"
   ]
  },
  {
   "cell_type": "code",
   "execution_count": 3,
   "metadata": {},
   "outputs": [],
   "source": [
    "from sklearn.linear_model import LinearRegression, Ridge\n",
    "from sklearn.linear_model import LogisticRegression\n",
    "from sklearn.linear_model import Lasso\n",
    "from sklearn.neighbors import KNeighborsRegressor\n",
    "from sklearn.model_selection import KFold\n",
    "from sklearn.model_selection import train_test_split\n",
    "from sklearn.model_selection import cross_val_score, cross_val_predict\n",
    "from sklearn.metrics import mean_squared_error, r2_score\n",
    "from sklearn.model_selection import learning_curve\n",
    "from sklearn.linear_model import RidgeCV\n",
    "from sklearn.preprocessing import StandardScaler\n",
    "from sklearn.metrics import mean_absolute_error\n",
    "from sklearn.tree import DecisionTreeRegressor\n",
    "from sklearn.metrics import accuracy_score, precision_score, recall_score"
   ]
  },
  {
   "cell_type": "code",
   "execution_count": 4,
   "metadata": {},
   "outputs": [
    {
     "data": {
      "text/plain": [
       "(308854, 19)"
      ]
     },
     "execution_count": 4,
     "metadata": {},
     "output_type": "execute_result"
    }
   ],
   "source": [
    "cardio = pd.read_csv('../data/Cardiovascular_cleaned.csv')\n",
    "cardio.shape"
   ]
  },
  {
   "cell_type": "markdown",
   "metadata": {},
   "source": [
    "# Hypothesis test"
   ]
  },
  {
   "cell_type": "markdown",
   "metadata": {},
   "source": [
    "Null Hypothesis (H0): There is no significant association between the category (alcohol consumption, fruit consumption, green vegetable consumption, fried potato consumption) and the presence of Heart_Disease.\n",
    "\n",
    "Alternative Hypothesis (Ha): There is a significant association between the category (alcohol consumption, fruit consumption, green vegetable consumption, fried potato consumption) and the presence of Heart_Disease."
   ]
  },
  {
   "cell_type": "markdown",
   "metadata": {},
   "source": [
    "## T - Test for all four columns"
   ]
  },
  {
   "cell_type": "code",
   "execution_count": 19,
   "metadata": {},
   "outputs": [
    {
     "name": "stdout",
     "output_type": "stream",
     "text": [
      "T-test for Alcohol_Consumption and Heart_Disease=No:\n",
      "T-statistic: 20.450951787434544\n",
      "P-value: 2.5640209275570343e-92\n",
      "The difference is statistically significant.\n",
      "\n",
      "T-test for Alcohol_Consumption and Heart_Disease=Yes:\n",
      "T-statistic: -20.450951787434544\n",
      "P-value: 2.5640209275570343e-92\n",
      "The difference is statistically significant.\n",
      "\n",
      "T-test for Fruit_Consumption and Heart_Disease=No:\n",
      "T-statistic: 11.326455555886188\n",
      "P-value: 1.1165920567363132e-29\n",
      "The difference is statistically significant.\n",
      "\n",
      "T-test for Fruit_Consumption and Heart_Disease=Yes:\n",
      "T-statistic: -11.326455555886188\n",
      "P-value: 1.1165920567363132e-29\n",
      "The difference is statistically significant.\n",
      "\n",
      "T-test for Green_Vegetables_Consumption and Heart_Disease=No:\n",
      "T-statistic: 14.196454879078571\n",
      "P-value: 1.3501822352236017e-45\n",
      "The difference is statistically significant.\n",
      "\n",
      "T-test for Green_Vegetables_Consumption and Heart_Disease=Yes:\n",
      "T-statistic: -14.196454879078571\n",
      "P-value: 1.3501822352236017e-45\n",
      "The difference is statistically significant.\n",
      "\n",
      "T-test for FriedPotato_Consumption and Heart_Disease=No:\n",
      "T-statistic: 5.169651270128542\n",
      "P-value: 2.3605295647977296e-07\n",
      "The difference is statistically significant.\n",
      "\n",
      "T-test for FriedPotato_Consumption and Heart_Disease=Yes:\n",
      "T-statistic: -5.169651270128542\n",
      "P-value: 2.3605295647977296e-07\n",
      "The difference is statistically significant.\n",
      "\n"
     ]
    }
   ],
   "source": [
    "# Define the categories you want to compare\n",
    "categories = [\"Alcohol_Consumption\", \"Fruit_Consumption\", \"Green_Vegetables_Consumption\", \"FriedPotato_Consumption\"]\n",
    "\n",
    "# Perform t-test for each category\n",
    "for category in categories:\n",
    "    for hd_category in cardio[\"Heart_Disease\"].unique():\n",
    "        group_0 = cardio[category][cardio[\"Heart_Disease\"] == hd_category]\n",
    "        group_1 = cardio[category][cardio[\"Heart_Disease\"] != hd_category]\n",
    "        t_statistic, p_value = ttest_ind(group_0, group_1, equal_var=False)\n",
    "        print(f\"T-test for {category} and Heart_Disease={hd_category}:\")\n",
    "        print(f\"T-statistic: {t_statistic}\")\n",
    "        print(f\"P-value: {p_value}\")\n",
    "        if p_value < 0.05:\n",
    "            print(\"The difference is statistically significant.\\n\")\n",
    "        else:\n",
    "            print(\"The difference is not statistically significant.\\n\")\n",
    "\n"
   ]
  },
  {
   "cell_type": "markdown",
   "metadata": {},
   "source": [
    "# Mann-WhitneyU Test for all four columns"
   ]
  },
  {
   "cell_type": "code",
   "execution_count": 21,
   "metadata": {},
   "outputs": [
    {
     "name": "stdout",
     "output_type": "stream",
     "text": [
      "\n",
      "Mann-Whitney U test for Alcohol_Consumption and Heart_Disease=Yes:\n",
      "Mann-Whitney U statistic: 3006144385.5\n",
      "P-value: 0.0\n",
      "The difference is statistically significant.\n",
      "\n",
      "Mann-Whitney U test for Alcohol_Consumption and Heart_Disease=No:\n",
      "Mann-Whitney U statistic: 4082698007.5\n",
      "P-value: 0.0\n",
      "The difference is statistically significant.\n",
      "\n",
      "Mann-Whitney U test for Fruit_Consumption and Heart_Disease=Yes:\n",
      "Mann-Whitney U statistic: 3374577681.0\n",
      "P-value: 2.3590727367213727e-37\n",
      "The difference is statistically significant.\n",
      "\n",
      "Mann-Whitney U test for Fruit_Consumption and Heart_Disease=No:\n",
      "Mann-Whitney U statistic: 3714264712.0\n",
      "P-value: 2.3590727367213727e-37\n",
      "The difference is statistically significant.\n",
      "\n",
      "Mann-Whitney U test for Green_Vegetables_Consumption and Heart_Disease=Yes:\n",
      "Mann-Whitney U statistic: 3340434951.0\n",
      "P-value: 3.777408343216292e-52\n",
      "The difference is statistically significant.\n",
      "\n",
      "Mann-Whitney U test for Green_Vegetables_Consumption and Heart_Disease=No:\n",
      "Mann-Whitney U statistic: 3748407442.0\n",
      "P-value: 3.777408343216292e-52\n",
      "The difference is statistically significant.\n",
      "\n",
      "Mann-Whitney U test for FriedPotato_Consumption and Heart_Disease=Yes:\n",
      "Mann-Whitney U statistic: 3368543401.5\n",
      "P-value: 1.8633472341292425e-39\n",
      "The difference is statistically significant.\n",
      "\n",
      "Mann-Whitney U test for FriedPotato_Consumption and Heart_Disease=No:\n",
      "Mann-Whitney U statistic: 3720298991.5\n",
      "P-value: 1.8633472341292425e-39\n",
      "The difference is statistically significant.\n"
     ]
    }
   ],
   "source": [
    "from scipy.stats import mannwhitneyu\n",
    "\n",
    "# Define the column names and categories\n",
    "columns = ['Alcohol_Consumption', 'Fruit_Consumption', 'Green_Vegetables_Consumption', 'FriedPotato_Consumption']\n",
    "categories = ['Yes', 'No']\n",
    "\n",
    "# Loop through each column and perform the Mann-Whitney U test\n",
    "for col in columns:\n",
    "    for cat in categories:\n",
    "        group1 = cardio[cardio['Heart_Disease'] == cat][col]\n",
    "        group2 = cardio[cardio['Heart_Disease'] != cat][col]\n",
    "\n",
    "        stat, p_value = mannwhitneyu(group1, group2, alternative='two-sided')\n",
    "        \n",
    "        print(f\"\\nMann-Whitney U test for {col} and Heart_Disease={cat}:\")\n",
    "        print(f\"Mann-Whitney U statistic: {stat}\")\n",
    "        print(f\"P-value: {p_value}\")\n",
    "\n",
    "        if p_value < 0.05:\n",
    "            print(\"The difference is statistically significant.\")\n",
    "        else:\n",
    "            print(\"There is no significant difference.\")\n",
    "\n"
   ]
  },
  {
   "cell_type": "markdown",
   "metadata": {},
   "source": [
    "# Mann-WhitneyU test results in table format"
   ]
  },
  {
   "cell_type": "code",
   "execution_count": 11,
   "metadata": {},
   "outputs": [
    {
     "name": "stdout",
     "output_type": "stream",
     "text": [
      "                       Category Heart_Disease  Mann_Whitney_U       P_Value\n",
      "0           Alcohol_Consumption           Yes    3.006144e+09  0.000000e+00\n",
      "1           Alcohol_Consumption            No    4.082698e+09  0.000000e+00\n",
      "2             Fruit_Consumption           Yes    3.374578e+09  2.359073e-37\n",
      "3             Fruit_Consumption            No    3.714265e+09  2.359073e-37\n",
      "4  Green_Vegetables_Consumption           Yes    3.340435e+09  3.777408e-52\n",
      "5  Green_Vegetables_Consumption            No    3.748407e+09  3.777408e-52\n",
      "6       FriedPotato_Consumption           Yes    3.368543e+09  1.863347e-39\n",
      "7       FriedPotato_Consumption            No    3.720299e+09  1.863347e-39\n"
     ]
    }
   ],
   "source": [
    "import pandas as pd\n",
    "\n",
    "# Results data\n",
    "columns = ['Category', 'Heart_Disease', 'Mann_Whitney_U', 'P_Value']\n",
    "data = [\n",
    "    ['Alcohol_Consumption', 'Yes', 3006144385.5, 0.0],\n",
    "    ['Alcohol_Consumption', 'No', 4082698007.5, 0.0],\n",
    "    ['Fruit_Consumption', 'Yes', 3374577681.0, 2.3590727367213727e-37],\n",
    "    ['Fruit_Consumption', 'No', 3714264712.0, 2.3590727367213727e-37],\n",
    "    ['Green_Vegetables_Consumption', 'Yes', 3340434951.0, 3.777408343216292e-52],\n",
    "    ['Green_Vegetables_Consumption', 'No', 3748407442.0, 3.777408343216292e-52],\n",
    "    ['FriedPotato_Consumption', 'Yes', 3368543401.5, 1.8633472341292425e-39],\n",
    "    ['FriedPotato_Consumption', 'No', 3720298991.5, 1.8633472341292425e-39]\n",
    "]\n",
    "\n",
    "# Create a DataFrame\n",
    "result_df = pd.DataFrame(data, columns=columns)\n",
    "\n",
    "# Display the table\n",
    "print(result_df)\n"
   ]
  },
  {
   "cell_type": "markdown",
   "metadata": {},
   "source": [
    "Cross tab to get frequency table of individual counts"
   ]
  },
  {
   "cell_type": "markdown",
   "metadata": {},
   "source": [
    "# Fishers exact test"
   ]
  },
  {
   "cell_type": "code",
   "execution_count": 13,
   "metadata": {},
   "outputs": [
    {
     "name": "stdout",
     "output_type": "stream",
     "text": [
      "              Alcohol_Consumption                                          \\\n",
      "                            0.0    1.0    2.0    3.0    4.0   5.0   6.0     \n",
      "Heart_Disease                                                               \n",
      "No                         125443  23185  18531  10831  21980  9165  3346   \n",
      "Yes                         14819   1798   1209    648   1387   457   172   \n",
      "\n",
      "                                  ... FriedPotato_Consumption              \\\n",
      "              7.0    8.0   9.0    ...                   95.0  96.0  97.0    \n",
      "Heart_Disease                     ...                                       \n",
      "No             2460  12825   227  ...                       1     6     0   \n",
      "Yes             112    613    12  ...                       0     2     1   \n",
      "\n",
      "                                                         \n",
      "              98.0  99.0  100.0 112.0 120.0 124.0 128.0  \n",
      "Heart_Disease                                            \n",
      "No                1    42     2     1   192     1     2  \n",
      "Yes               0     1     0     0    13     0     0  \n",
      "\n",
      "[2 rows x 252 columns]\n"
     ]
    }
   ],
   "source": [
    "# Create a frequency table (contingency table) using crosstab for each categorical variable\n",
    "alcohol_vs_heart_disease = pd.crosstab(cardio[\"Heart_Disease\"], cardio[\"Alcohol_Consumption\"])\n",
    "fruit_vs_heart_disease = pd.crosstab(cardio[\"Heart_Disease\"], cardio[\"Fruit_Consumption\"])\n",
    "green_vegetables_vs_heart_disease = pd.crosstab(cardio[\"Heart_Disease\"], cardio[\"Green_Vegetables_Consumption\"])\n",
    "fried_potato_vs_heart_disease = pd.crosstab(cardio[\"Heart_Disease\"], cardio[\"FriedPotato_Consumption\"])\n",
    "\n",
    "# Concatenate the separate DataFrames into the frequency table\n",
    "frequency_table = pd.concat([alcohol_vs_heart_disease, fruit_vs_heart_disease,\n",
    "                            green_vegetables_vs_heart_disease, fried_potato_vs_heart_disease],\n",
    "                           axis=1, keys=[\"Alcohol_Consumption\", \"Fruit_Consumption\",\n",
    "                                       \"Green_Vegetables_Consumption\", \"FriedPotato_Consumption\"])\n",
    "\n",
    "# Display the frequency table\n",
    "print(frequency_table)\n",
    "\n"
   ]
  },
  {
   "cell_type": "code",
   "execution_count": 29,
   "metadata": {},
   "outputs": [
    {
     "name": "stdout",
     "output_type": "stream",
     "text": [
      "                       Category  Odds Ratio       P-Value\n",
      "0           Alcohol_Consumption    1.810134  0.000000e+00\n",
      "1             Fruit_Consumption    1.317861  1.145664e-17\n",
      "2  Green_Vegetables_Consumption    1.288591  3.076211e-33\n",
      "3       FriedPotato_Consumption    1.275012  2.396764e-59\n"
     ]
    },
    {
     "data": {
      "text/plain": [
       "<Axes: >"
      ]
     },
     "execution_count": 29,
     "metadata": {},
     "output_type": "execute_result"
    },
    {
     "data": {
      "image/png": "[encoded data removed]",
      "text/plain": [
       "<Figure size 640x480 with 1 Axes>"
      ]
     },
     "metadata": {},
     "output_type": "display_data"
    }
   ],
   "source": [
    "# Putting results into an easier to read table\n",
    "\n",
    "# Choose four categories to compare for each variable\n",
    "alcohol_categories = [0.0, 1.0]  # Do NOT consume Alcohol 0.0 and 1.0 DO consume Alcohol\n",
    "fruit_categories = [0.0, 1.0]    # Do NOT cosume fruit 0.0 and 1.0 DO consume fruit\n",
    "green_vegetables_categories = [0.0, 1.0]  # Example: Do NOT cosume Green Vegetables 0.0 and 1.0 DO cunsume Green Vegetables\n",
    "fried_potato_categories = [0.0, 1.0]     # Example: Do NOT cosume FriedPotato 0.0 and 1.0 DO consume FriedPotato\n",
    "\n",
    "# Perform Fisher's exact test for each comparison\n",
    "result_alcohol = fisher_exact(pd.crosstab(cardio[\"Heart_Disease\"], cardio[\"Alcohol_Consumption\"].isin(alcohol_categories)))\n",
    "result_fruit = fisher_exact(pd.crosstab(cardio[\"Heart_Disease\"], cardio[\"Fruit_Consumption\"].isin(fruit_categories)))\n",
    "result_green_vegetables = fisher_exact(pd.crosstab(cardio[\"Heart_Disease\"], cardio[\"Green_Vegetables_Consumption\"].isin(green_vegetables_categories)))\n",
    "result_fried_potato = fisher_exact(pd.crosstab(cardio[\"Heart_Disease\"], cardio[\"FriedPotato_Consumption\"].isin(fried_potato_categories)))\n",
    "\n",
    "# Display the results\n",
    "results_df = pd.DataFrame({\n",
    "    \"Category\": [\"Alcohol_Consumption\", \"Fruit_Consumption\", \"Green_Vegetables_Consumption\", \"FriedPotato_Consumption\"],\n",
    "    \"Odds Ratio\": [result_alcohol[0], result_fruit[0], result_green_vegetables[0], result_fried_potato[0]],\n",
    "    \"P-Value\": [result_alcohol[1], result_fruit[1], result_green_vegetables[1], result_fried_potato[1]]\n",
    "})\n",
    "\n",
    "print(results_df)\n",
    "\n",
    "# Odds ratio shows how many more times likely to have Heart Disease \n",
    "results_df.plot()\n"
   ]
  },
  {
   "cell_type": "markdown",
   "metadata": {},
   "source": [
    "Chi-square test between heart disease and the four columns"
   ]
  },
  {
   "cell_type": "code",
   "execution_count": 17,
   "metadata": {},
   "outputs": [
    {
     "name": "stdout",
     "output_type": "stream",
     "text": [
      "Chi-square test for Alcohol_Consumption:\n",
      "Chi-square value: 2490.5084503496464\n",
      "P-value: 0.0\n",
      "The difference is statistically significant.\n",
      "\n",
      "Chi-square test for Fruit_Consumption:\n",
      "Chi-square value: 449.136221776519\n",
      "P-value: 2.571515888115319e-54\n",
      "The difference is statistically significant.\n",
      "\n",
      "Chi-square test for Green_Vegetables_Consumption:\n",
      "Chi-square value: 428.72143374827647\n",
      "P-value: 2.159617726977898e-51\n",
      "The difference is statistically significant.\n",
      "\n",
      "Chi-square test for FriedPotato_Consumption:\n",
      "Chi-square value: 459.9679170505369\n",
      "P-value: 1.5257063846852023e-59\n",
      "The difference is statistically significant.\n",
      "\n"
     ]
    }
   ],
   "source": [
    "from scipy.stats import chi2_contingency\n",
    "\n",
    "# Define the categories you want to compare\n",
    "categories = [\"Alcohol_Consumption\", \"Fruit_Consumption\", \"Green_Vegetables_Consumption\", \"FriedPotato_Consumption\"]\n",
    "\n",
    "# Perform Chi-square test for each category\n",
    "for category in categories:\n",
    "    contingency_table = pd.crosstab(cardio[category], cardio[\"Heart_Disease\"])\n",
    "    chi2, p_value, _, _ = chi2_contingency(contingency_table)\n",
    "    print(f\"Chi-square test for {category}:\")\n",
    "    print(f\"Chi-square value: {chi2}\")\n",
    "    print(f\"P-value: {p_value}\")\n",
    "    if p_value < 0.05:\n",
    "        print(\"The difference is statistically significant.\\n\")\n",
    "    else:\n",
    "        print(\"The difference is not statistically significant.\\n\")\n"
   ]
  }
 ],
 "metadata": {
  "kernelspec": {
   "display_name": "base",
   "language": "python",
   "name": "python3"
  },
  "language_info": {
   "codemirror_mode": {
    "name": "ipython",
    "version": 3
   },
   "file_extension": ".py",
   "mimetype": "text/x-python",
   "name": "python",
   "nbconvert_exporter": "python",
   "pygments_lexer": "ipython3",
   "version": "3.10.9"
  },
  "orig_nbformat": 4
 },
 "nbformat": 4,
 "nbformat_minor": 2
}
